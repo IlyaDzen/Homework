{
 "cells": [
  {
   "cell_type": "code",
   "execution_count": 43,
   "metadata": {},
   "outputs": [
    {
     "name": "stdout",
     "output_type": "stream",
     "text": [
      "фраза 1 длиннее фразы 2 \n"
     ]
    }
   ],
   "source": [
    "#Задание 1\n",
    "phrase_1=('Насколько проще было бы писать программы, если бы не заказчики')\n",
    "phrase_2=('Уверен, лучше делать домашнее задание вовремя')\n",
    "\n",
    "# phrase_1=('Уверен, лучше делать домашнее задание вовремя')\n",
    "# phrase_2=('Насколько проще было бы писать программы, если бы не заказчики')\n",
    "\n",
    "# phrase_1=('Насколько проще было бы писать программы, если бы не заказчики')\n",
    "# phrase_2=('Насколько проще было бы писать программы, если бы не заказчики')\n",
    "\n",
    "if len(phrase_1)>len(phrase_2):\n",
    "    print('фраза 1 длиннее фразы 2 ')\n",
    "elif len(phrase_2)>len(phrase_1):\n",
    "    print('фраза 2 длиннее фразы 1 ')\n",
    "else:\n",
    "    print('фразы одинаковой длины')\n"
   ]
  },
  {
   "cell_type": "code",
   "execution_count": 55,
   "metadata": {},
   "outputs": [
    {
     "name": "stdout",
     "output_type": "stream",
     "text": [
      "Високосный год\n"
     ]
    }
   ],
   "source": [
    "#Задание 2\n",
    "year=2020\n",
    "if year % 4 == 0:\n",
    "    print('Високосный год')\n",
    "else:\n",
    "    print('Обычный год')"
   ]
  },
  {
   "cell_type": "code",
   "execution_count": 58,
   "metadata": {},
   "outputs": [
    {
     "name": "stdout",
     "output_type": "stream",
     "text": [
      "Введите день30\n",
      "30\n",
      "Введите месяц6\n",
      "Рак\n"
     ]
    }
   ],
   "source": [
    "#Задание 3\n",
    "user_input = int(input('Введите день'))\n",
    "print(user_input)\n",
    "user_input2 = int(input('Введите месяц'))\n",
    "\n",
    "\n",
    "if user_input2==3 and 21<=user_input<=31:\n",
    "    print('Овен')\n",
    "elif user_input2==4 and 1<=user_input<=20:\n",
    "    print('Овен')\n",
    "elif user_input2==4 and 21<=user_input<=30:\n",
    "    print('Телец')\n",
    "elif user_input2==5 and 1<=user_input<=21:\n",
    "    print('Телец')   \n",
    "elif user_input2==5 and 22<=user_input<=31:\n",
    "    print('Близнецы')\n",
    "elif user_input2==6 and 1<=user_input<=21:\n",
    "    print('Близнецы')\n",
    "elif user_input2==6 and 22<=user_input<=30:\n",
    "    print('Рак')\n",
    "elif user_input2==7 and 1<=user_input<=22:\n",
    "    print('Рак')\n",
    "elif user_input2==7 and 23<=user_input<=31:\n",
    "    print('Лев')\n",
    "elif user_input2==8 and 1<=user_input<=21:\n",
    "    print('Лев')\n",
    "elif user_input2==8 and 22<=user_input<=31:\n",
    "    print('Дева')\n",
    "elif user_input2==9 and 1<=user_input<=23:\n",
    "    print('Дева')\n",
    "elif user_input2==9 and 24<=user_input<=30:\n",
    "    print('Весы')\n",
    "elif user_input2==10 and 1<=user_input<=23:\n",
    "    print('Весы')\n",
    "elif user_input2==10 and 24<=user_input<=31:\n",
    "    print('Скорпион')\n",
    "elif user_input2==11 and 1<=user_input<=22:\n",
    "    print('Скорпион')\n",
    "elif user_input2==11 and 23<=user_input<=30:\n",
    "    print('Стрелец')\n",
    "elif user_input2==12 and 1<=user_input<=22:\n",
    "    print('Стрелец')\n",
    "elif user_input2==12 and 23<=user_input<=31:\n",
    "    print('Козерог')\n",
    "elif user_input2==1 and 1<=user_input<=20:\n",
    "    print('Козерог')\n",
    "elif user_input2==1 and 21<=user_input<=31:\n",
    "    print('Водолей')\n",
    "elif user_input2==2 and 1<=user_input<=19:\n",
    "    print('Водолей')\n",
    "elif user_input2==2 and 20<=user_input<=29:\n",
    "    print('Рыбы')\n",
    "elif user_input2==3 and 1<=user_input<=20:\n",
    "    print('Рыбы')"
   ]
  },
  {
   "cell_type": "code",
   "execution_count": 60,
   "metadata": {},
   "outputs": [
    {
     "name": "stdout",
     "output_type": "stream",
     "text": [
      "Введите ширину15\n",
      "Введите длину20\n",
      "Введите высоту15\n",
      "Коробка №2\n"
     ]
    }
   ],
   "source": [
    "#Задание 4\n",
    "width = int(input('Введите ширину'))\n",
    "length = int(input('Введите длину'))\n",
    "height = int(input('Введите высоту'))\n",
    "if width<15 and length<15 and height<15:\n",
    "    print('Коробка №1')\n",
    "elif 15<width<50 or 15<length<50 or 15<height<50:\n",
    "    print('Коробка №2')\n",
    "elif length>200:\n",
    "    print('Упаковка для лыж')\n",
    "else:\n",
    "    print('Стандартная коробка №3')"
   ]
  }
 ],
 "metadata": {
  "kernelspec": {
   "display_name": "Python 3",
   "language": "python",
   "name": "python3"
  },
  "language_info": {
   "codemirror_mode": {
    "name": "ipython",
    "version": 3
   },
   "file_extension": ".py",
   "mimetype": "text/x-python",
   "name": "python",
   "nbconvert_exporter": "python",
   "pygments_lexer": "ipython3",
   "version": "3.8.3"
  }
 },
 "nbformat": 4,
 "nbformat_minor": 4
}
