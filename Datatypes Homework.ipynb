{
 "cells": [
  {
   "cell_type": "code",
   "execution_count": 2,
   "metadata": {},
   "outputs": [
    {
     "name": "stdout",
     "output_type": "stream",
     "text": [
      "e s\n"
     ]
    }
   ],
   "source": [
    "#Задача 1\n",
    "word='test'\n",
    "if len(word)%2==0:\n",
    "    print(word[int(len(word)/2-1)],word[int(len(word)/2)])\n",
    "else:\n",
    "    print(word[int(len(word)/2)])"
   ]
  },
  {
   "cell_type": "code",
   "execution_count": 3,
   "metadata": {},
   "outputs": [
    {
     "name": "stdout",
     "output_type": "stream",
     "text": [
      "Введите число 3\n",
      "Введите число 4\n",
      "Введите число 0\n",
      "Результат\n",
      "7\n"
     ]
    }
   ],
   "source": [
    "#Задача 2\n",
    "s=0\n",
    "number=1\n",
    "while number!=0:\n",
    "    number=int(input('Введите число '))\n",
    "    s=s+number\n",
    "print('Результат')\n",
    "print(s)"
   ]
  },
  {
   "cell_type": "code",
   "execution_count": 8,
   "metadata": {},
   "outputs": [
    {
     "name": "stdout",
     "output_type": "stream",
     "text": [
      "Идеальные пары:\n",
      "Alex и Emma\n",
      "Arthur и Kate\n",
      "John и Kira\n",
      "Peter и Liza\n",
      "Richard и Trisha\n"
     ]
    }
   ],
   "source": [
    "#Задача 3\n",
    "boys = ['Peter', 'Alex', 'John', 'Arthur', 'Richard']\n",
    "girls = ['Kate', 'Liza', 'Kira', 'Emma', 'Trisha']\n",
    "\n",
    "if len(boys)==len(girls):\n",
    "    print('Идеальные пары:')\n",
    "    boys_s=sorted(boys)\n",
    "    girls_s=sorted(girls)\n",
    "    a=0\n",
    "    while a!=len(boys):\n",
    "        print(boys_s[a],'и',girls_s[a])\n",
    "        a=a+1\n",
    "else:\n",
    "    print('Внимание, кто-то может остаться без пары!')"
   ]
  },
  {
   "cell_type": "code",
   "execution_count": 10,
   "metadata": {},
   "outputs": [
    {
     "name": "stdout",
     "output_type": "stream",
     "text": [
      "Средняя температура в странах:\n",
      "Thailand - 23.9 C\n",
      "Germany - 13.8 C\n",
      "Russia - 3.7 C\n",
      "Poland - 12.0 C\n"
     ]
    }
   ],
   "source": [
    "#Задача 4\n",
    "\n",
    "countries_temperature = [\n",
    "['Thailand', [75.2, 77, 78.8, 73.4, 68, 75.2, 77]],\n",
    "['Germany', [57.2, 55.4, 59, 59, 53.6]],\n",
    "['Russia', [35.6, 37.4, 39.2, 41, 42.8, 39.2, 35.6]],\n",
    "['Poland', [50, 50, 53.6, 57.2, 55.4, 55.4]]\n",
    "]\n",
    "\n",
    "\n",
    "print('Средняя температура в странах:')\n",
    "for element in countries_temperature:\n",
    "    print(element[0],'-','%.1f' % (5/9*(sum(element[1])/len(element[1])-32)),'C')"
   ]
  }
 ],
 "metadata": {
  "kernelspec": {
   "display_name": "Python 3",
   "language": "python",
   "name": "python3"
  },
  "language_info": {
   "codemirror_mode": {
    "name": "ipython",
    "version": 3
   },
   "file_extension": ".py",
   "mimetype": "text/x-python",
   "name": "python",
   "nbconvert_exporter": "python",
   "pygments_lexer": "ipython3",
   "version": "3.8.3"
  }
 },
 "nbformat": 4,
 "nbformat_minor": 4
}
